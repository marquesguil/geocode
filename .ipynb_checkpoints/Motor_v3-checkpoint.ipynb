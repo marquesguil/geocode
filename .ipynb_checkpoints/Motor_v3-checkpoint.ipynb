{
 "cells": [
  {
   "cell_type": "markdown",
   "metadata": {},
   "source": [
    "# PRIMEIRA VERSÃO DO MOTOR PARA GEODIFICAÇÃO\n",
    "1 - Importação e aplicação das bibliotecas necessárias."
   ]
  },
  {
   "cell_type": "code",
   "execution_count": 1,
   "metadata": {},
   "outputs": [],
   "source": [
    "import pandas as pd\n",
    "from geopy.extra.rate_limiter import RateLimiter\n",
    "from geopy.geocoders import Nominatim"
   ]
  },
  {
   "cell_type": "markdown",
   "metadata": {},
   "source": [
    "2 - Puxando o data frame a partir de dados no formato CSV"
   ]
  },
  {
   "cell_type": "code",
   "execution_count": 2,
   "metadata": {},
   "outputs": [],
   "source": [
    "df = pd.read_csv('amostragem.csv')"
   ]
  },
  {
   "cell_type": "code",
   "execution_count": 3,
   "metadata": {},
   "outputs": [
    {
     "data": {
      "text/plain": [
       "Index(['Razao Social', 'Nome Fantasia', 'Logradouro', 'numero', 'Bairro',\n",
       "       'Municipio', 'cep', 'UF'],\n",
       "      dtype='object')"
      ]
     },
     "execution_count": 3,
     "metadata": {},
     "output_type": "execute_result"
    }
   ],
   "source": [
    "df.columns"
   ]
  },
  {
   "cell_type": "markdown",
   "metadata": {},
   "source": [
    "3 - Criando um novo data frame para receber meus dados sem modificar os dados originais"
   ]
  },
  {
   "cell_type": "code",
   "execution_count": 4,
   "metadata": {},
   "outputs": [],
   "source": [
    "dfNew = pd.DataFrame()\n",
    "colunas = ['Logradouro','Latitude','Longitude']\n",
    "dfNew = pd.DataFrame(columns=colunas)"
   ]
  },
  {
   "cell_type": "code",
   "execution_count": 5,
   "metadata": {},
   "outputs": [],
   "source": [
    "i=0\n",
    "try:\n",
    "for ix, ln in df.iterrows():\n",
    "    try:\n",
    "    if df.numero[i] == '':\n",
    "        dfNew.Logradouro[i] = df.Logradouro[i]+', '+ df.Municipio[i]+', '+ df.UF[i]\n",
    "        i += 1\n",
    "    else:\n",
    "        dfNew.Logradouro[i] = df.Logradouro[i]+', '+ df.numero[i]+', '+ df.Municipio[i]+', '+ df.UF[i]\n",
    "        i += 1\n",
    "    except:\n",
    "        print('errado no percurso')\n",
    "except:\n",
    "    print('Algo deu muito errado')\n"
   ]
  },
  {
   "cell_type": "code",
   "execution_count": 6,
   "metadata": {},
   "outputs": [],
   "source": [
    "dfNew.to_csv('out_amostragem.csv', encoding='utf-8', index=False)"
   ]
  },
  {
   "cell_type": "markdown",
   "metadata": {},
   "source": [
    "4 - Criando as variaveis que irão pesquisar a geolocalização a partir de um endereço com um tempo limite de requisição"
   ]
  },
  {
   "cell_type": "code",
   "execution_count": 7,
   "metadata": {},
   "outputs": [],
   "source": [
    "locator = Nominatim(user_agent = 'geocode_zeta')"
   ]
  },
  {
   "cell_type": "code",
   "execution_count": 8,
   "metadata": {},
   "outputs": [],
   "source": [
    "geocode = RateLimiter(locator.geocode, min_delay_seconds=0.1)"
   ]
  },
  {
   "cell_type": "markdown",
   "metadata": {},
   "source": [
    "5 - Realizando a pesquisa e puxando dados geograficos de longitude e latitude a partir da pesquisa do endereço"
   ]
  },
  {
   "cell_type": "code",
   "execution_count": 9,
   "metadata": {},
   "outputs": [],
   "source": [
    "i = 0 \n",
    "for ix, ln in dfNew.iterrows():\n",
    "    try:\n",
    "        location = locator.geocode (dfNew.Logradouro[i])    \n",
    "        dfNew.Latitude[i] = (location.latitude)\n",
    "        dfNew.Longitude[i] = (location.longitude)\n",
    "        dfNew.to_csv('out_amostragem.csv', encoding='utf-8', index=False)\n",
    "        i += 1\n",
    "    except:\n",
    "        i += 1"
   ]
  },
  {
   "cell_type": "code",
   "execution_count": null,
   "metadata": {},
   "outputs": [],
   "source": [
    "dfNew.to_csv('out_amostragem.csv', encoding='utf-8', index=False)"
   ]
  },
  {
   "cell_type": "code",
   "execution_count": null,
   "metadata": {},
   "outputs": [],
   "source": []
  }
 ],
 "metadata": {
  "kernelspec": {
   "display_name": "Python 3",
   "language": "python",
   "name": "python3"
  },
  "language_info": {
   "codemirror_mode": {
    "name": "ipython",
    "version": 3
   },
   "file_extension": ".py",
   "mimetype": "text/x-python",
   "name": "python",
   "nbconvert_exporter": "python",
   "pygments_lexer": "ipython3",
   "version": "3.7.4"
  }
 },
 "nbformat": 4,
 "nbformat_minor": 2
}
