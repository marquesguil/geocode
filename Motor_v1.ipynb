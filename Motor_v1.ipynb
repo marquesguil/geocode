{
 "cells": [
  {
   "cell_type": "code",
   "execution_count": 1,
   "metadata": {},
   "outputs": [],
   "source": [
    "import pandas as pd\n",
    "from geopy.extra.rate_limiter import RateLimiter\n",
    "from geopy.geocoders import Nominatim"
   ]
  },
  {
   "cell_type": "code",
   "execution_count": 2,
   "metadata": {},
   "outputs": [],
   "source": [
    "geolocator = Nominatim(user_agent = 'geocode_zeta')"
   ]
  },
  {
   "cell_type": "code",
   "execution_count": 3,
   "metadata": {},
   "outputs": [],
   "source": [
    "locator = Nominatim(user_agent = 'geocode_zeta')"
   ]
  },
  {
   "cell_type": "code",
   "execution_count": 4,
   "metadata": {},
   "outputs": [],
   "source": [
    "geocode = RateLimiter(locator.geocode, min_delay_seconds=1)"
   ]
  },
  {
   "cell_type": "code",
   "execution_count": 5,
   "metadata": {},
   "outputs": [],
   "source": [
    "df = pd.read_csv('amostragem.csv')"
   ]
  },
  {
   "cell_type": "code",
   "execution_count": 6,
   "metadata": {
    "collapsed": true
   },
   "outputs": [
    {
     "data": {
      "text/html": [
       "<div>\n",
       "<style scoped>\n",
       "    .dataframe tbody tr th:only-of-type {\n",
       "        vertical-align: middle;\n",
       "    }\n",
       "\n",
       "    .dataframe tbody tr th {\n",
       "        vertical-align: top;\n",
       "    }\n",
       "\n",
       "    .dataframe thead th {\n",
       "        text-align: right;\n",
       "    }\n",
       "</style>\n",
       "<table border=\"1\" class=\"dataframe\">\n",
       "  <thead>\n",
       "    <tr style=\"text-align: right;\">\n",
       "      <th></th>\n",
       "      <th>Razao Social</th>\n",
       "      <th>Nome Fantasia</th>\n",
       "      <th>Logradouro</th>\n",
       "      <th>numero</th>\n",
       "      <th>Bairro</th>\n",
       "      <th>Municipio</th>\n",
       "      <th>cep</th>\n",
       "      <th>UF</th>\n",
       "    </tr>\n",
       "  </thead>\n",
       "  <tbody>\n",
       "    <tr>\n",
       "      <td>0</td>\n",
       "      <td>DISKTRANS COMERCIAL LTDA</td>\n",
       "      <td>NaN</td>\n",
       "      <td>ANTONIO OVIDIO RODRIGUES</td>\n",
       "      <td>1389</td>\n",
       "      <td>LOTEAMENTO PARQUE INDUSTRIAL DE JUNDIAI</td>\n",
       "      <td>JUNDIAI</td>\n",
       "      <td>13213180</td>\n",
       "      <td>SP</td>\n",
       "    </tr>\n",
       "    <tr>\n",
       "      <td>1</td>\n",
       "      <td>DISLAB COMERCIAL FARMACEUTICA LTDA.</td>\n",
       "      <td>NaN</td>\n",
       "      <td>ANHANGUERA</td>\n",
       "      <td>SN</td>\n",
       "      <td>PARQUE RESIDENCIAL CANDIDO PORTINARI</td>\n",
       "      <td>RIBEIRAO PRETO</td>\n",
       "      <td>14093500</td>\n",
       "      <td>SP</td>\n",
       "    </tr>\n",
       "    <tr>\n",
       "      <td>2</td>\n",
       "      <td>DISMASA LOGISTICA LTDA</td>\n",
       "      <td>DISMASA</td>\n",
       "      <td>DOS AUTONOMISTAS</td>\n",
       "      <td>4900</td>\n",
       "      <td>KM 18</td>\n",
       "      <td>OSASCO</td>\n",
       "      <td>6194060</td>\n",
       "      <td>SP</td>\n",
       "    </tr>\n",
       "    <tr>\n",
       "      <td>3</td>\n",
       "      <td>DISMAX DISTRIBUICAO E REPRESENTACAO DE PRODUTO...</td>\n",
       "      <td>DISMAX DISTRIBUIDORA</td>\n",
       "      <td>ESTEVAO MENDONCA</td>\n",
       "      <td>510</td>\n",
       "      <td>VILA SANTA CATARINA</td>\n",
       "      <td>SAO PAULO</td>\n",
       "      <td>4372050</td>\n",
       "      <td>SP</td>\n",
       "    </tr>\n",
       "    <tr>\n",
       "      <td>4</td>\n",
       "      <td>DISMED - DISTRIBUIDORA DE MEDICAMENTOS OLIMPIA...</td>\n",
       "      <td>DISMED</td>\n",
       "      <td>MENINA MOCA</td>\n",
       "      <td>559</td>\n",
       "      <td>JD. BLANCO</td>\n",
       "      <td>OLIMPIA</td>\n",
       "      <td>15400000</td>\n",
       "      <td>SP</td>\n",
       "    </tr>\n",
       "  </tbody>\n",
       "</table>\n",
       "</div>"
      ],
      "text/plain": [
       "                                        Razao Social         Nome Fantasia  \\\n",
       "0                           DISKTRANS COMERCIAL LTDA                   NaN   \n",
       "1                DISLAB COMERCIAL FARMACEUTICA LTDA.                   NaN   \n",
       "2                             DISMASA LOGISTICA LTDA               DISMASA   \n",
       "3  DISMAX DISTRIBUICAO E REPRESENTACAO DE PRODUTO...  DISMAX DISTRIBUIDORA   \n",
       "4  DISMED - DISTRIBUIDORA DE MEDICAMENTOS OLIMPIA...                DISMED   \n",
       "\n",
       "                 Logradouro numero                                   Bairro  \\\n",
       "0  ANTONIO OVIDIO RODRIGUES   1389  LOTEAMENTO PARQUE INDUSTRIAL DE JUNDIAI   \n",
       "1                ANHANGUERA     SN     PARQUE RESIDENCIAL CANDIDO PORTINARI   \n",
       "2          DOS AUTONOMISTAS   4900                                    KM 18   \n",
       "3          ESTEVAO MENDONCA    510                      VILA SANTA CATARINA   \n",
       "4               MENINA MOCA    559                               JD. BLANCO   \n",
       "\n",
       "        Municipio       cep  UF  \n",
       "0         JUNDIAI  13213180  SP  \n",
       "1  RIBEIRAO PRETO  14093500  SP  \n",
       "2          OSASCO   6194060  SP  \n",
       "3       SAO PAULO   4372050  SP  \n",
       "4         OLIMPIA  15400000  SP  "
      ]
     },
     "execution_count": 6,
     "metadata": {},
     "output_type": "execute_result"
    }
   ],
   "source": [
    "df.head(5)"
   ]
  },
  {
   "cell_type": "code",
   "execution_count": null,
   "metadata": {},
   "outputs": [],
   "source": [
    "df['location'] = df['Logradouro'].apply(geocode)"
   ]
  },
  {
   "cell_type": "code",
   "execution_count": null,
   "metadata": {},
   "outputs": [],
   "source": [
    "df['point'] = df['location'].apply(lambda loc: tuple(loc.point) if loc else None)"
   ]
  },
  {
   "cell_type": "code",
   "execution_count": null,
   "metadata": {},
   "outputs": [],
   "source": [
    "df[['latitude', 'longitude', 'altitude']] = pd.DataFrame(df['point'].tolist(), index=df.index)"
   ]
  },
  {
   "cell_type": "code",
   "execution_count": null,
   "metadata": {},
   "outputs": [],
   "source": []
  }
 ],
 "metadata": {
  "kernelspec": {
   "display_name": "Python 3",
   "language": "python",
   "name": "python3"
  },
  "language_info": {
   "codemirror_mode": {
    "name": "ipython",
    "version": 3
   },
   "file_extension": ".py",
   "mimetype": "text/x-python",
   "name": "python",
   "nbconvert_exporter": "python",
   "pygments_lexer": "ipython3",
   "version": "3.7.4"
  }
 },
 "nbformat": 4,
 "nbformat_minor": 2
}
