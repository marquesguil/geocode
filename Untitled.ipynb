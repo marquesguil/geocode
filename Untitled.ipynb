{
 "cells": [
  {
   "cell_type": "code",
   "execution_count": 16,
   "metadata": {},
   "outputs": [
    {
     "name": "stdout",
     "output_type": "stream",
     "text": [
      "Collecting geopy\n",
      "  Downloading https://files.pythonhosted.org/packages/ab/97/25def417bf5db4cc6b89b47a56961b893d4ee4fec0c335f5b9476a8ff153/geopy-1.22.0-py2.py3-none-any.whl (113kB)\n",
      "Collecting geographiclib<2,>=1.49 (from geopy)\n",
      "  Downloading https://files.pythonhosted.org/packages/8b/62/26ec95a98ba64299163199e95ad1b0e34ad3f4e176e221c40245f211e425/geographiclib-1.50-py3-none-any.whl\n",
      "Installing collected packages: geographiclib, geopy\n",
      "Successfully installed geographiclib-1.50 geopy-1.22.0\n"
     ]
    }
   ],
   "source": [
    "!pip install geopy"
   ]
  },
  {
   "cell_type": "code",
   "execution_count": 20,
   "metadata": {},
   "outputs": [
    {
     "name": "stdout",
     "output_type": "stream",
     "text": [
      "Requirement already satisfied: numpy in c:\\users\\guilherme\\anaconda3\\lib\\site-packages (1.16.5)\n",
      "Requirement already satisfied: pandas in c:\\users\\guilherme\\anaconda3\\lib\\site-packages (0.25.1)\n",
      "Requirement already satisfied: python-dateutil>=2.6.1 in c:\\users\\guilherme\\anaconda3\\lib\\site-packages (from pandas) (2.8.0)\n",
      "Requirement already satisfied: numpy>=1.13.3 in c:\\users\\guilherme\\anaconda3\\lib\\site-packages (from pandas) (1.16.5)\n",
      "Requirement already satisfied: pytz>=2017.2 in c:\\users\\guilherme\\anaconda3\\lib\\site-packages (from pandas) (2019.3)\n",
      "Requirement already satisfied: six>=1.5 in c:\\users\\guilherme\\anaconda3\\lib\\site-packages (from python-dateutil>=2.6.1->pandas) (1.12.0)\n",
      "Collecting shapely\n",
      "  Using cached https://files.pythonhosted.org/packages/ea/55/61a5d274a210585b5d0c3dac81a82952a4baa7903e3642228d7a465fc340/Shapely-1.7.0-cp37-cp37m-win_amd64.whl\n",
      "Installing collected packages: shapely\n",
      "Successfully installed shapely-1.7.0\n",
      "Collecting fiona\n",
      "  Using cached https://files.pythonhosted.org/packages/6d/42/f4a7cac53b28fa70e9a93d0e89a24d33e14826dad6644b699362ad84dde0/Fiona-1.8.13.post1.tar.gz\n"
     ]
    },
    {
     "name": "stderr",
     "output_type": "stream",
     "text": [
      "    ERROR: Command errored out with exit status 1:\n",
      "     command: 'C:\\Users\\Guilherme\\Anaconda3\\python.exe' -c 'import sys, setuptools, tokenize; sys.argv[0] = '\"'\"'C:\\\\Users\\\\GUILHE~1\\\\AppData\\\\Local\\\\Temp\\\\pip-install-m9w33sho\\\\fiona\\\\setup.py'\"'\"'; __file__='\"'\"'C:\\\\Users\\\\GUILHE~1\\\\AppData\\\\Local\\\\Temp\\\\pip-install-m9w33sho\\\\fiona\\\\setup.py'\"'\"';f=getattr(tokenize, '\"'\"'open'\"'\"', open)(__file__);code=f.read().replace('\"'\"'\\r\\n'\"'\"', '\"'\"'\\n'\"'\"');f.close();exec(compile(code, __file__, '\"'\"'exec'\"'\"'))' egg_info --egg-base pip-egg-info\n",
      "         cwd: C:\\Users\\GUILHE~1\\AppData\\Local\\Temp\\pip-install-m9w33sho\\fiona\\\n",
      "    Complete output (1 lines):\n",
      "    A GDAL API version must be specified. Provide a path to gdal-config using a GDAL_CONFIG environment variable or use a GDAL_VERSION environment variable.\n",
      "    ----------------------------------------\n",
      "ERROR: Command errored out with exit status 1: python setup.py egg_info Check the logs for full command output.\n"
     ]
    },
    {
     "name": "stdout",
     "output_type": "stream",
     "text": [
      "Collecting pyproj\n",
      "  Using cached https://files.pythonhosted.org/packages/76/b9/bdc864c059aac3cf5598197e7e5323a74b1a3f62e9c21c3400420760903c/pyproj-2.6.1.post1-cp37-cp37m-win_amd64.whl\n",
      "Installing collected packages: pyproj\n",
      "Successfully installed pyproj-2.6.1.post1\n",
      "Requirement already satisfied: six in c:\\users\\guilherme\\anaconda3\\lib\\site-packages (1.12.0)\n"
     ]
    }
   ],
   "source": [
    "!pip install numpy\n",
    "!pip install pandas\n",
    "!pip install shapely\n",
    "!pip install fiona\n",
    "!pip install pyproj\n",
    "!pip install six"
   ]
  },
  {
   "cell_type": "code",
   "execution_count": 21,
   "metadata": {},
   "outputs": [
    {
     "name": "stdout",
     "output_type": "stream",
     "text": [
      "Collecting geopandas\n",
      "  Using cached https://files.pythonhosted.org/packages/83/c5/3cf9cdc39a6f2552922f79915f36b45a95b71fd343cfc51170a5b6ddb6e8/geopandas-0.7.0-py2.py3-none-any.whl\n",
      "Requirement already satisfied: pyproj>=2.2.0 in c:\\users\\guilherme\\anaconda3\\lib\\site-packages (from geopandas) (2.6.1.post1)\n",
      "Requirement already satisfied: shapely in c:\\users\\guilherme\\anaconda3\\lib\\site-packages (from geopandas) (1.7.0)\n",
      "Requirement already satisfied: pandas>=0.23.0 in c:\\users\\guilherme\\anaconda3\\lib\\site-packages (from geopandas) (0.25.1)\n",
      "Collecting fiona (from geopandas)\n",
      "  Using cached https://files.pythonhosted.org/packages/6d/42/f4a7cac53b28fa70e9a93d0e89a24d33e14826dad6644b699362ad84dde0/Fiona-1.8.13.post1.tar.gz\n"
     ]
    },
    {
     "name": "stderr",
     "output_type": "stream",
     "text": [
      "    ERROR: Command errored out with exit status 1:\n",
      "     command: 'C:\\Users\\Guilherme\\Anaconda3\\python.exe' -c 'import sys, setuptools, tokenize; sys.argv[0] = '\"'\"'C:\\\\Users\\\\GUILHE~1\\\\AppData\\\\Local\\\\Temp\\\\pip-install-lyebls7y\\\\fiona\\\\setup.py'\"'\"'; __file__='\"'\"'C:\\\\Users\\\\GUILHE~1\\\\AppData\\\\Local\\\\Temp\\\\pip-install-lyebls7y\\\\fiona\\\\setup.py'\"'\"';f=getattr(tokenize, '\"'\"'open'\"'\"', open)(__file__);code=f.read().replace('\"'\"'\\r\\n'\"'\"', '\"'\"'\\n'\"'\"');f.close();exec(compile(code, __file__, '\"'\"'exec'\"'\"'))' egg_info --egg-base pip-egg-info\n",
      "         cwd: C:\\Users\\GUILHE~1\\AppData\\Local\\Temp\\pip-install-lyebls7y\\fiona\\\n",
      "    Complete output (1 lines):\n",
      "    A GDAL API version must be specified. Provide a path to gdal-config using a GDAL_CONFIG environment variable or use a GDAL_VERSION environment variable.\n",
      "    ----------------------------------------\n",
      "ERROR: Command errored out with exit status 1: python setup.py egg_info Check the logs for full command output.\n"
     ]
    }
   ],
   "source": [
    "!pip install geopandas"
   ]
  },
  {
   "cell_type": "code",
   "execution_count": 22,
   "metadata": {},
   "outputs": [],
   "source": [
    "import pandas as pd"
   ]
  },
  {
   "cell_type": "code",
   "execution_count": 23,
   "metadata": {},
   "outputs": [],
   "source": [
    "lerArquivo = pd.read_csv('enderecos.csv')"
   ]
  },
  {
   "cell_type": "code",
   "execution_count": 24,
   "metadata": {},
   "outputs": [
    {
     "data": {
      "text/plain": [
       "Index(['id', 'bairro', 'created_at', 'descricao', 'endereco', 'id.1',\n",
       "       'ip_address_origin', 'latitude', 'longitude', 'registrou_bo', 'sexo',\n",
       "       'tipo_assalto_id', 'titulo', 'uri', 'user_id', 'valor_prejuizo',\n",
       "       'Bicicleta', 'Bolsa ou Mochila', 'Carteira', 'Cartão de Crédito',\n",
       "       'Celular', 'Computador', 'DVD', 'Dinheiro', 'Documentos',\n",
       "       'Equipamento de Som', 'Estepe', 'MP4 ou Ipod', 'Móveis', 'Notebook',\n",
       "       'Outros', 'Relógio', 'Som', 'Tablet', 'Tv', 'time'],\n",
       "      dtype='object')"
      ]
     },
     "execution_count": 24,
     "metadata": {},
     "output_type": "execute_result"
    }
   ],
   "source": [
    "lerArquivo.columns"
   ]
  },
  {
   "cell_type": "code",
   "execution_count": 46,
   "metadata": {},
   "outputs": [],
   "source": [
    "df = lerArquivo[['endereco']]"
   ]
  },
  {
   "cell_type": "code",
   "execution_count": 47,
   "metadata": {},
   "outputs": [
    {
     "data": {
      "text/html": [
       "<div>\n",
       "<style scoped>\n",
       "    .dataframe tbody tr th:only-of-type {\n",
       "        vertical-align: middle;\n",
       "    }\n",
       "\n",
       "    .dataframe tbody tr th {\n",
       "        vertical-align: top;\n",
       "    }\n",
       "\n",
       "    .dataframe thead th {\n",
       "        text-align: right;\n",
       "    }\n",
       "</style>\n",
       "<table border=\"1\" class=\"dataframe\">\n",
       "  <thead>\n",
       "    <tr style=\"text-align: right;\">\n",
       "      <th></th>\n",
       "      <th>endereco</th>\n",
       "    </tr>\n",
       "  </thead>\n",
       "  <tbody>\n",
       "    <tr>\n",
       "      <td>0</td>\n",
       "      <td>Avenida Trona Constanzo, 177, Butantã</td>\n",
       "    </tr>\n",
       "    <tr>\n",
       "      <td>1</td>\n",
       "      <td>Avenida José Pinheiro Borges, 450-876 - Itaque...</td>\n",
       "    </tr>\n",
       "    <tr>\n",
       "      <td>2</td>\n",
       "      <td>Rua Corínthians - Itaquera - Shopping Metrô It...</td>\n",
       "    </tr>\n",
       "    <tr>\n",
       "      <td>3</td>\n",
       "      <td>Rua Pasquale Gallupi, 347 - Morumbi, São Paulo...</td>\n",
       "    </tr>\n",
       "    <tr>\n",
       "      <td>4</td>\n",
       "      <td>Avenida Professor Fonseca Rodrigues, 1655 - Al...</td>\n",
       "    </tr>\n",
       "    <tr>\n",
       "      <td>...</td>\n",
       "      <td>...</td>\n",
       "    </tr>\n",
       "    <tr>\n",
       "      <td>12894</td>\n",
       "      <td>R. José Luís Monteiro, 157-221 - Jardim das Ca...</td>\n",
       "    </tr>\n",
       "    <tr>\n",
       "      <td>12895</td>\n",
       "      <td>Avenida São Gabriel, 201 - Jardim Paulista, Sã...</td>\n",
       "    </tr>\n",
       "    <tr>\n",
       "      <td>12896</td>\n",
       "      <td>R. Dom Henrique, 2 - Vila Joao Ramalho, Santo ...</td>\n",
       "    </tr>\n",
       "    <tr>\n",
       "      <td>12897</td>\n",
       "      <td>Rua Acalifas, 52 - Campo Belo, São Paulo, 0462...</td>\n",
       "    </tr>\n",
       "    <tr>\n",
       "      <td>12898</td>\n",
       "      <td>Avenida Brigadeiro Faria Lima, 919-1029 - Pinh...</td>\n",
       "    </tr>\n",
       "  </tbody>\n",
       "</table>\n",
       "<p>12899 rows × 1 columns</p>\n",
       "</div>"
      ],
      "text/plain": [
       "                                                endereco\n",
       "0                  Avenida Trona Constanzo, 177, Butantã\n",
       "1      Avenida José Pinheiro Borges, 450-876 - Itaque...\n",
       "2      Rua Corínthians - Itaquera - Shopping Metrô It...\n",
       "3      Rua Pasquale Gallupi, 347 - Morumbi, São Paulo...\n",
       "4      Avenida Professor Fonseca Rodrigues, 1655 - Al...\n",
       "...                                                  ...\n",
       "12894  R. José Luís Monteiro, 157-221 - Jardim das Ca...\n",
       "12895  Avenida São Gabriel, 201 - Jardim Paulista, Sã...\n",
       "12896  R. Dom Henrique, 2 - Vila Joao Ramalho, Santo ...\n",
       "12897  Rua Acalifas, 52 - Campo Belo, São Paulo, 0462...\n",
       "12898  Avenida Brigadeiro Faria Lima, 919-1029 - Pinh...\n",
       "\n",
       "[12899 rows x 1 columns]"
      ]
     },
     "execution_count": 47,
     "metadata": {},
     "output_type": "execute_result"
    }
   ],
   "source": [
    "df"
   ]
  },
  {
   "cell_type": "code",
   "execution_count": 27,
   "metadata": {},
   "outputs": [
    {
     "ename": "NameError",
     "evalue": "name 'Nominatim' is not defined",
     "output_type": "error",
     "traceback": [
      "\u001b[1;31m---------------------------------------------------------------------------\u001b[0m",
      "\u001b[1;31mNameError\u001b[0m                                 Traceback (most recent call last)",
      "\u001b[1;32m<ipython-input-27-2f07e5a42ef9>\u001b[0m in \u001b[0;36m<module>\u001b[1;34m\u001b[0m\n\u001b[1;32m----> 1\u001b[1;33m \u001b[0mlocator\u001b[0m \u001b[1;33m=\u001b[0m \u001b[0mNominatim\u001b[0m \u001b[1;33m(\u001b[0m\u001b[0muser_agent\u001b[0m \u001b[1;33m=\u001b[0m \u001b[1;34m'myGeocoder'\u001b[0m\u001b[1;33m)\u001b[0m\u001b[1;33m\u001b[0m\u001b[1;33m\u001b[0m\u001b[0m\n\u001b[0m\u001b[0;32m      2\u001b[0m \u001b[1;31m#location = locator.geocode (“Champ de Mars, Paris, França”)\u001b[0m\u001b[1;33m\u001b[0m\u001b[1;33m\u001b[0m\u001b[1;33m\u001b[0m\u001b[0m\n",
      "\u001b[1;31mNameError\u001b[0m: name 'Nominatim' is not defined"
     ]
    }
   ],
   "source": [
    "locator = Nominatim (user_agent = 'myGeocoder')\n",
    "#location = locator.geocode (“Champ de Mars, Paris, França”)"
   ]
  },
  {
   "cell_type": "code",
   "execution_count": 48,
   "metadata": {},
   "outputs": [
    {
     "name": "stderr",
     "output_type": "stream",
     "text": [
      "C:\\Users\\Guilherme\\Anaconda3\\lib\\site-packages\\ipykernel_launcher.py:2: DeprecationWarning: Using Nominatim with the default \"geopy/1.22.0\" `user_agent` is strongly discouraged, as it violates Nominatim's ToS https://operations.osmfoundation.org/policies/nominatim/ and may possibly cause 403 and 429 HTTP errors. Please specify a custom `user_agent` with `Nominatim(user_agent=\"my-application\")` or by overriding the default `user_agent`: `geopy.geocoders.options.default_user_agent = \"my-application\"`. In geopy 2.0 this will become an exception.\n",
      "  \n"
     ]
    }
   ],
   "source": [
    "from geopy.geocoders import Nominatim\n",
    "geolocator = Nominatim()"
   ]
  },
  {
   "cell_type": "code",
   "execution_count": 50,
   "metadata": {},
   "outputs": [
    {
     "name": "stdout",
     "output_type": "stream",
     "text": [
      "0                    Avenida Trona Constanzo, 177, Butantã\n",
      "1        Avenida José Pinheiro Borges, 450-876 - Itaque...\n",
      "2        Rua Corínthians - Itaquera - Shopping Metrô It...\n",
      "3        Rua Pasquale Gallupi, 347 - Morumbi, São Paulo...\n",
      "4        Avenida Professor Fonseca Rodrigues, 1655 - Al...\n",
      "                               ...                        \n",
      "12894    R. José Luís Monteiro, 157-221 - Jardim das Ca...\n",
      "12895    Avenida São Gabriel, 201 - Jardim Paulista, Sã...\n",
      "12896    R. Dom Henrique, 2 - Vila Joao Ramalho, Santo ...\n",
      "12897    Rua Acalifas, 52 - Campo Belo, São Paulo, 0462...\n",
      "12898    Avenida Brigadeiro Faria Lima, 919-1029 - Pinh...\n",
      "Name: endereco, Length: 12899, dtype: object\n",
      "None\n"
     ]
    }
   ],
   "source": [
    "for linha in df:\n",
    "    texto = df[linha]\n",
    "    print(texto)\n",
    "    location = geolocator.geocode(texto)\n",
    "    print(location)\n",
    "    #print(location.address)\n",
    "    #print((location.latitude, location.longitude))"
   ]
  },
  {
   "cell_type": "code",
   "execution_count": null,
   "metadata": {},
   "outputs": [],
   "source": []
  }
 ],
 "metadata": {
  "kernelspec": {
   "display_name": "Python 3",
   "language": "python",
   "name": "python3"
  },
  "language_info": {
   "codemirror_mode": {
    "name": "ipython",
    "version": 3
   },
   "file_extension": ".py",
   "mimetype": "text/x-python",
   "name": "python",
   "nbconvert_exporter": "python",
   "pygments_lexer": "ipython3",
   "version": "3.7.4"
  }
 },
 "nbformat": 4,
 "nbformat_minor": 2
}
