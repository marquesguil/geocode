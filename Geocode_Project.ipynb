{
  "nbformat": 4,
  "nbformat_minor": 0,
  "metadata": {
    "colab": {
      "name": "Zeta_Project.ipynb",
      "provenance": [],
      "collapsed_sections": [],
      "authorship_tag": "ABX9TyPfRuEB1IH6lH32p7GO48vu",
      "include_colab_link": true
    },
    "kernelspec": {
      "name": "python3",
      "display_name": "Python 3"
    }
  },
  "cells": [
    {
      "cell_type": "markdown",
      "metadata": {
        "id": "view-in-github",
        "colab_type": "text"
      },
      "source": [
        "<a href=\"https://colab.research.google.com/github/marquesguil/geocode/blob/master/Geocode_Project.ipynb\" target=\"_parent\"><img src=\"https://colab.research.google.com/assets/colab-badge.svg\" alt=\"Open In Colab\"/></a>"
      ]
    },
    {
      "cell_type": "code",
      "metadata": {
        "id": "f6pAKZ0zkRh2",
        "colab_type": "code",
        "colab": {
          "base_uri": "https://localhost:8080/",
          "height": 122
        },
        "outputId": "1b85daac-4aa1-4085-ec26-7edd93c56fbd"
      },
      "source": [
        "from google.colab import drive\n",
        "\n",
        "drive.mount('/content/drive')"
      ],
      "execution_count": 1,
      "outputs": [
        {
          "output_type": "stream",
          "text": [
            "Go to this URL in a browser: https://accounts.google.com/o/oauth2/auth?client_id=947318989803-6bn6qk8qdgf4n4g3pfee6491hc0brc4i.apps.googleusercontent.com&redirect_uri=urn%3aietf%3awg%3aoauth%3a2.0%3aoob&response_type=code&scope=email%20https%3a%2f%2fwww.googleapis.com%2fauth%2fdocs.test%20https%3a%2f%2fwww.googleapis.com%2fauth%2fdrive%20https%3a%2f%2fwww.googleapis.com%2fauth%2fdrive.photos.readonly%20https%3a%2f%2fwww.googleapis.com%2fauth%2fpeopleapi.readonly\n",
            "\n",
            "Enter your authorization code:\n",
            "··········\n",
            "Mounted at /content/drive\n"
          ],
          "name": "stdout"
        }
      ]
    },
    {
      "cell_type": "code",
      "metadata": {
        "id": "cY0BlzvTn01G",
        "colab_type": "code",
        "colab": {
          "base_uri": "https://localhost:8080/",
          "height": 156
        },
        "outputId": "8612b054-3206-440f-9e6e-aa78b2978dab"
      },
      "source": [
        "!pip install unidecode\n",
        "!pip install geopy"
      ],
      "execution_count": 2,
      "outputs": [
        {
          "output_type": "stream",
          "text": [
            "Collecting unidecode\n",
            "\u001b[?25l  Downloading https://files.pythonhosted.org/packages/d0/42/d9edfed04228bacea2d824904cae367ee9efd05e6cce7ceaaedd0b0ad964/Unidecode-1.1.1-py2.py3-none-any.whl (238kB)\n",
            "\r\u001b[K     |█▍                              | 10kB 19.4MB/s eta 0:00:01\r\u001b[K     |██▊                             | 20kB 3.1MB/s eta 0:00:01\r\u001b[K     |████▏                           | 30kB 4.1MB/s eta 0:00:01\r\u001b[K     |█████▌                          | 40kB 4.4MB/s eta 0:00:01\r\u001b[K     |██████▉                         | 51kB 3.5MB/s eta 0:00:01\r\u001b[K     |████████▎                       | 61kB 4.0MB/s eta 0:00:01\r\u001b[K     |█████████▋                      | 71kB 4.3MB/s eta 0:00:01\r\u001b[K     |███████████                     | 81kB 4.7MB/s eta 0:00:01\r\u001b[K     |████████████▍                   | 92kB 4.9MB/s eta 0:00:01\r\u001b[K     |█████████████▊                  | 102kB 4.8MB/s eta 0:00:01\r\u001b[K     |███████████████▏                | 112kB 4.8MB/s eta 0:00:01\r\u001b[K     |████████████████▌               | 122kB 4.8MB/s eta 0:00:01\r\u001b[K     |█████████████████▉              | 133kB 4.8MB/s eta 0:00:01\r\u001b[K     |███████████████████▎            | 143kB 4.8MB/s eta 0:00:01\r\u001b[K     |████████████████████▋           | 153kB 4.8MB/s eta 0:00:01\r\u001b[K     |██████████████████████          | 163kB 4.8MB/s eta 0:00:01\r\u001b[K     |███████████████████████▍        | 174kB 4.8MB/s eta 0:00:01\r\u001b[K     |████████████████████████▊       | 184kB 4.8MB/s eta 0:00:01\r\u001b[K     |██████████████████████████▏     | 194kB 4.8MB/s eta 0:00:01\r\u001b[K     |███████████████████████████▌    | 204kB 4.8MB/s eta 0:00:01\r\u001b[K     |████████████████████████████▉   | 215kB 4.8MB/s eta 0:00:01\r\u001b[K     |██████████████████████████████▎ | 225kB 4.8MB/s eta 0:00:01\r\u001b[K     |███████████████████████████████▋| 235kB 4.8MB/s eta 0:00:01\r\u001b[K     |████████████████████████████████| 245kB 4.8MB/s \n",
            "\u001b[?25hInstalling collected packages: unidecode\n",
            "Successfully installed unidecode-1.1.1\n",
            "Requirement already satisfied: geopy in /usr/local/lib/python3.6/dist-packages (1.17.0)\n",
            "Requirement already satisfied: geographiclib<2,>=1.49 in /usr/local/lib/python3.6/dist-packages (from geopy) (1.50)\n"
          ],
          "name": "stdout"
        }
      ]
    },
    {
      "cell_type": "code",
      "metadata": {
        "id": "6lG_2FfVkPeV",
        "colab_type": "code",
        "colab": {}
      },
      "source": [
        "import re\n",
        "import pandas as pd\n",
        "from geopy.extra.rate_limiter import RateLimiter\n",
        "from geopy.geocoders import Nominatim\n",
        "from unicodedata import normalize"
      ],
      "execution_count": 4,
      "outputs": []
    },
    {
      "cell_type": "code",
      "metadata": {
        "id": "3NZs-uEVkqSS",
        "colab_type": "code",
        "colab": {
          "base_uri": "https://localhost:8080/",
          "height": 68
        },
        "outputId": "16f129e1-8f53-4e12-b7d0-62868d3f6cf6"
      },
      "source": [
        "df = pd.read_csv('/content/drive/My Drive/Zeta_Project/amostragem.csv')\n",
        "df.columns"
      ],
      "execution_count": 5,
      "outputs": [
        {
          "output_type": "execute_result",
          "data": {
            "text/plain": [
              "Index(['Razao Social', 'Nome Fantasia', 'Logradouro', 'numero', 'Bairro',\n",
              "       'Municipio', 'cep', 'UF'],\n",
              "      dtype='object')"
            ]
          },
          "metadata": {
            "tags": []
          },
          "execution_count": 5
        }
      ]
    },
    {
      "cell_type": "code",
      "metadata": {
        "id": "1Ct-1rH1QotL",
        "colab_type": "code",
        "colab": {}
      },
      "source": [
        "colunas = ['Logradouro','Latitude','Longitude']\n",
        "dfNew = pd.DataFrame(columns=colunas)"
      ],
      "execution_count": 6,
      "outputs": []
    },
    {
      "cell_type": "code",
      "metadata": {
        "id": "wQ-uyOu5nGxZ",
        "colab_type": "code",
        "colab": {
          "base_uri": "https://localhost:8080/",
          "height": 34
        },
        "outputId": "8a5b2c30-7659-4b99-bf67-2601503ff0a7"
      },
      "source": [
        "dfNew.columns"
      ],
      "execution_count": 7,
      "outputs": [
        {
          "output_type": "execute_result",
          "data": {
            "text/plain": [
              "Index(['Logradouro', 'Latitude', 'Longitude'], dtype='object')"
            ]
          },
          "metadata": {
            "tags": []
          },
          "execution_count": 7
        }
      ]
    },
    {
      "cell_type": "code",
      "metadata": {
        "id": "UHP0l80cWsfM",
        "colab_type": "code",
        "colab": {}
      },
      "source": [
        "def garbageCleanerT(texto):\n",
        "    texto = texto.lower()\n",
        "    texto = re.sub('[0-9]', '', texto)\n",
        "    texto = re.sub('[.]', '', texto)\n",
        "    texto = re.sub(r\"http\\S+\", '', texto)\n",
        "    texto = re.sub(u'[!@#$%¨<&*(){}|/\\_,.;:>?\"+-]','',texto)\n",
        "    texto = re.sub(r\"(\\s)+\",r' ',texto) # Remove espaços duplos\n",
        "    return(normalize('NFKD', texto).encode('ASCII', 'ignore').decode('ASCII'))"
      ],
      "execution_count": 8,
      "outputs": []
    },
    {
      "cell_type": "code",
      "metadata": {
        "id": "af6uWC4QXaR9",
        "colab_type": "code",
        "colab": {}
      },
      "source": [
        "def garbageCleanerN(numero):\n",
        "    numero = re.sub('[^0-9]', '', numero)\n",
        "    numero = re.sub('[.]', '', numero)\n",
        "    numero = re.sub(r\"http\\S+\", '', numero)\n",
        "    numero = re.sub(u'[!@#$%¨<&*(){}|/\\_,.;:>?\"+-]','',numero)\n",
        "    numero = re.sub(r\"(\\s)+\",r' ',numero) # Remove espaços duplos\n",
        "    return(numero)"
      ],
      "execution_count": 9,
      "outputs": []
    },
    {
      "cell_type": "code",
      "metadata": {
        "id": "PSLa7b9ElXJ9",
        "colab_type": "code",
        "colab": {
          "base_uri": "https://localhost:8080/",
          "height": 102
        },
        "outputId": "8e8c9c1a-f52e-4d91-f92c-d6942fa77c5f"
      },
      "source": [
        "i = 0\n",
        "for ix, ln in df.iterrows():\n",
        "  try:\n",
        "    dirtyText = df.Logradouro[i]\n",
        "    texto = garbageCleanerT(dirtyText)\n",
        "    df.Logradouro[i] = texto\n",
        "    i += 1\n",
        "  except:\n",
        "    i += 1"
      ],
      "execution_count": 10,
      "outputs": [
        {
          "output_type": "stream",
          "text": [
            "/usr/local/lib/python3.6/dist-packages/ipykernel_launcher.py:6: SettingWithCopyWarning: \n",
            "A value is trying to be set on a copy of a slice from a DataFrame\n",
            "\n",
            "See the caveats in the documentation: https://pandas.pydata.org/pandas-docs/stable/user_guide/indexing.html#returning-a-view-versus-a-copy\n",
            "  \n"
          ],
          "name": "stderr"
        }
      ]
    },
    {
      "cell_type": "code",
      "metadata": {
        "id": "z7X9zCs1oSo8",
        "colab_type": "code",
        "colab": {
          "base_uri": "https://localhost:8080/",
          "height": 102
        },
        "outputId": "22530a89-7fa6-4829-b028-b4a291ec27ff"
      },
      "source": [
        "i = 0\n",
        "for ix, ln in df.iterrows():\n",
        "  try:\n",
        "    dirtyNumber = df.numero[i]\n",
        "    number = garbageCleanerN(dirtyNumber)\n",
        "    df.numero[i] = number\n",
        "    i += 1\n",
        "  except:\n",
        "    i += 1"
      ],
      "execution_count": 11,
      "outputs": [
        {
          "output_type": "stream",
          "text": [
            "/usr/local/lib/python3.6/dist-packages/ipykernel_launcher.py:6: SettingWithCopyWarning: \n",
            "A value is trying to be set on a copy of a slice from a DataFrame\n",
            "\n",
            "See the caveats in the documentation: https://pandas.pydata.org/pandas-docs/stable/user_guide/indexing.html#returning-a-view-versus-a-copy\n",
            "  \n"
          ],
          "name": "stderr"
        }
      ]
    },
    {
      "cell_type": "code",
      "metadata": {
        "id": "HTeODU_Qodve",
        "colab_type": "code",
        "colab": {
          "base_uri": "https://localhost:8080/",
          "height": 102
        },
        "outputId": "84fa3f3b-71ca-4d49-f0ad-47f9b2e28701"
      },
      "source": [
        "i = 0\n",
        "for ix, ln in df.iterrows():\n",
        "  try:\n",
        "    dirtyText = df.Bairro[i]\n",
        "    texto = garbageCleanerT(dirtyText)\n",
        "    df.Bairro[i] = texto\n",
        "    i += 1\n",
        "  except:\n",
        "    i += 1"
      ],
      "execution_count": 12,
      "outputs": [
        {
          "output_type": "stream",
          "text": [
            "/usr/local/lib/python3.6/dist-packages/ipykernel_launcher.py:6: SettingWithCopyWarning: \n",
            "A value is trying to be set on a copy of a slice from a DataFrame\n",
            "\n",
            "See the caveats in the documentation: https://pandas.pydata.org/pandas-docs/stable/user_guide/indexing.html#returning-a-view-versus-a-copy\n",
            "  \n"
          ],
          "name": "stderr"
        }
      ]
    },
    {
      "cell_type": "code",
      "metadata": {
        "id": "PtPCGjw5a0Jw",
        "colab_type": "code",
        "colab": {
          "base_uri": "https://localhost:8080/",
          "height": 102
        },
        "outputId": "b8af4c31-93ec-4d71-c928-7a53bdd83974"
      },
      "source": [
        "i = 0\n",
        "for ix, ln in df.iterrows():\n",
        "  try:\n",
        "    dirtyText = df.Municipio[i]\n",
        "    texto = garbageCleanerT(dirtyText)\n",
        "    df.Municipio[i] = texto\n",
        "    i += 1\n",
        "  except:\n",
        "    i += 1"
      ],
      "execution_count": 13,
      "outputs": [
        {
          "output_type": "stream",
          "text": [
            "/usr/local/lib/python3.6/dist-packages/ipykernel_launcher.py:6: SettingWithCopyWarning: \n",
            "A value is trying to be set on a copy of a slice from a DataFrame\n",
            "\n",
            "See the caveats in the documentation: https://pandas.pydata.org/pandas-docs/stable/user_guide/indexing.html#returning-a-view-versus-a-copy\n",
            "  \n"
          ],
          "name": "stderr"
        }
      ]
    },
    {
      "cell_type": "code",
      "metadata": {
        "id": "aU0a_5ghbS41",
        "colab_type": "code",
        "colab": {}
      },
      "source": [
        "dfNew['Logradouro'] = df['Logradouro']+', '+df['Municipio']+', '+df['UF']"
      ],
      "execution_count": 14,
      "outputs": []
    },
    {
      "cell_type": "code",
      "metadata": {
        "id": "VuvGHkfnbsRd",
        "colab_type": "code",
        "colab": {
          "base_uri": "https://localhost:8080/",
          "height": 419
        },
        "outputId": "ed456b1c-33f0-48de-e85a-69c4c2f15299"
      },
      "source": [
        "dfNew"
      ],
      "execution_count": 15,
      "outputs": [
        {
          "output_type": "execute_result",
          "data": {
            "text/html": [
              "<div>\n",
              "<style scoped>\n",
              "    .dataframe tbody tr th:only-of-type {\n",
              "        vertical-align: middle;\n",
              "    }\n",
              "\n",
              "    .dataframe tbody tr th {\n",
              "        vertical-align: top;\n",
              "    }\n",
              "\n",
              "    .dataframe thead th {\n",
              "        text-align: right;\n",
              "    }\n",
              "</style>\n",
              "<table border=\"1\" class=\"dataframe\">\n",
              "  <thead>\n",
              "    <tr style=\"text-align: right;\">\n",
              "      <th></th>\n",
              "      <th>Logradouro</th>\n",
              "      <th>Latitude</th>\n",
              "      <th>Longitude</th>\n",
              "    </tr>\n",
              "  </thead>\n",
              "  <tbody>\n",
              "    <tr>\n",
              "      <th>0</th>\n",
              "      <td>antonio ovidio rodrigues, jundiai, SP</td>\n",
              "      <td>NaN</td>\n",
              "      <td>NaN</td>\n",
              "    </tr>\n",
              "    <tr>\n",
              "      <th>1</th>\n",
              "      <td>anhanguera, ribeirao preto, SP</td>\n",
              "      <td>NaN</td>\n",
              "      <td>NaN</td>\n",
              "    </tr>\n",
              "    <tr>\n",
              "      <th>2</th>\n",
              "      <td>dos autonomistas, osasco, SP</td>\n",
              "      <td>NaN</td>\n",
              "      <td>NaN</td>\n",
              "    </tr>\n",
              "    <tr>\n",
              "      <th>3</th>\n",
              "      <td>estevao mendonca, sao paulo, SP</td>\n",
              "      <td>NaN</td>\n",
              "      <td>NaN</td>\n",
              "    </tr>\n",
              "    <tr>\n",
              "      <th>4</th>\n",
              "      <td>menina moca, olimpia, SP</td>\n",
              "      <td>NaN</td>\n",
              "      <td>NaN</td>\n",
              "    </tr>\n",
              "    <tr>\n",
              "      <th>...</th>\n",
              "      <td>...</td>\n",
              "      <td>...</td>\n",
              "      <td>...</td>\n",
              "    </tr>\n",
              "    <tr>\n",
              "      <th>9997</th>\n",
              "      <td>jornalista roberto marinho, sao paulo, SP</td>\n",
              "      <td>NaN</td>\n",
              "      <td>NaN</td>\n",
              "    </tr>\n",
              "    <tr>\n",
              "      <th>9998</th>\n",
              "      <td>nicola demarchi, sao bernardo do campo, SP</td>\n",
              "      <td>NaN</td>\n",
              "      <td>NaN</td>\n",
              "    </tr>\n",
              "    <tr>\n",
              "      <th>9999</th>\n",
              "      <td>presidente juscelino kubitschek, sao paulo, SP</td>\n",
              "      <td>NaN</td>\n",
              "      <td>NaN</td>\n",
              "    </tr>\n",
              "    <tr>\n",
              "      <th>10000</th>\n",
              "      <td>noboru kihara, pompeia, SP</td>\n",
              "      <td>NaN</td>\n",
              "      <td>NaN</td>\n",
              "    </tr>\n",
              "    <tr>\n",
              "      <th>10001</th>\n",
              "      <td>de santa isabel, itaquaquecetuba, SP</td>\n",
              "      <td>NaN</td>\n",
              "      <td>NaN</td>\n",
              "    </tr>\n",
              "  </tbody>\n",
              "</table>\n",
              "<p>10002 rows × 3 columns</p>\n",
              "</div>"
            ],
            "text/plain": [
              "                                           Logradouro Latitude Longitude\n",
              "0               antonio ovidio rodrigues, jundiai, SP      NaN       NaN\n",
              "1                      anhanguera, ribeirao preto, SP      NaN       NaN\n",
              "2                        dos autonomistas, osasco, SP      NaN       NaN\n",
              "3                     estevao mendonca, sao paulo, SP      NaN       NaN\n",
              "4                            menina moca, olimpia, SP      NaN       NaN\n",
              "...                                               ...      ...       ...\n",
              "9997        jornalista roberto marinho, sao paulo, SP      NaN       NaN\n",
              "9998       nicola demarchi, sao bernardo do campo, SP      NaN       NaN\n",
              "9999   presidente juscelino kubitschek, sao paulo, SP      NaN       NaN\n",
              "10000                      noboru kihara, pompeia, SP      NaN       NaN\n",
              "10001            de santa isabel, itaquaquecetuba, SP      NaN       NaN\n",
              "\n",
              "[10002 rows x 3 columns]"
            ]
          },
          "metadata": {
            "tags": []
          },
          "execution_count": 15
        }
      ]
    },
    {
      "cell_type": "code",
      "metadata": {
        "id": "w25EktGkg-mm",
        "colab_type": "code",
        "colab": {}
      },
      "source": [
        "locator = Nominatim(user_agent = 'geocode_zeta')"
      ],
      "execution_count": 16,
      "outputs": []
    },
    {
      "cell_type": "code",
      "metadata": {
        "id": "rjQ3sqKRhB9F",
        "colab_type": "code",
        "colab": {}
      },
      "source": [
        "geocode = RateLimiter(locator.geocode, min_delay_seconds=0.1)"
      ],
      "execution_count": 17,
      "outputs": []
    },
    {
      "cell_type": "code",
      "metadata": {
        "id": "-BfjBnLbbtmP",
        "colab_type": "code",
        "colab": {}
      },
      "source": [
        "i = 0 \n",
        "for ix, ln in dfNew.iterrows():\n",
        "    try:\n",
        "        location = locator.geocode (dfNew.Logradouro[i])    \n",
        "        dfNew.Latitude[i] = (location.latitude)\n",
        "        dfNew.Longitude[i] = (location.longitude)\n",
        "        i += 1\n",
        "    except:\n",
        "        i += 1"
      ],
      "execution_count": null,
      "outputs": []
    },
    {
      "cell_type": "code",
      "metadata": {
        "id": "NIhwq3VMgBxl",
        "colab_type": "code",
        "colab": {}
      },
      "source": [
        "dfNew.to_csv('/content/drive/My Drive/Zeta_Project/out_amostragem.csv', encoding='utf-8', index=False)"
      ],
      "execution_count": null,
      "outputs": []
    },
    {
      "cell_type": "code",
      "metadata": {
        "id": "AC4fl66iDSGG",
        "colab_type": "code",
        "colab": {}
      },
      "source": [
        "dfPlot = dfNew.dropna(subset=['Latitude'], inplace=True)"
      ],
      "execution_count": null,
      "outputs": []
    },
    {
      "cell_type": "code",
      "metadata": {
        "id": "sznYw6t9DVRO",
        "colab_type": "code",
        "colab": {}
      },
      "source": [
        ""
      ],
      "execution_count": null,
      "outputs": []
    }
  ]
}